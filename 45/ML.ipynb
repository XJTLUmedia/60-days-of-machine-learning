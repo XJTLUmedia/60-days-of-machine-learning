{
 "cells": [
  {
   "cell_type": "code",
   "execution_count": 18,
   "metadata": {},
   "outputs": [],
   "source": [
    "import numpy as np\n",
    "from keras.models import Sequential\n",
    "from keras.layers import TimeDistributed, Dense, Dropout, SimpleRNN, RepeatVector\n",
    "from keras.callbacks import EarlyStopping, LambdaCallback\n",
    "from termcolor import colored"
   ]
  },
  {
   "cell_type": "code",
   "execution_count": 19,
   "metadata": {},
   "outputs": [
    {
     "name": "stdout",
     "output_type": "stream",
     "text": [
      "no of features: 11\n"
     ]
    }
   ],
   "source": [
    "all_chars='0123456789+'\n",
    "num_features = len(all_chars)\n",
    "print('no of features:', num_features)\n",
    "char_to_index= dict((c,i) for i,c in enumerate(all_chars))\n",
    "index_to_char= dict((i,c) for i, c in enumerate(all_chars))"
   ]
  },
  {
   "cell_type": "code",
   "execution_count": 20,
   "metadata": {},
   "outputs": [
    {
     "data": {
      "text/plain": [
       "('29+27', '56')"
      ]
     },
     "execution_count": 20,
     "metadata": {},
     "output_type": "execute_result"
    }
   ],
   "source": [
    "def generate_data():\n",
    "    first = np.random.randint(0,100)\n",
    "    second = np.random.randint(0,100)\n",
    "    example = str(first)+ '+' + str(second)\n",
    "    label = str(first+second)\n",
    "    return example, label\n",
    "generate_data()"
   ]
  },
  {
   "cell_type": "code",
   "execution_count": 21,
   "metadata": {},
   "outputs": [
    {
     "name": "stdout",
     "output_type": "stream",
     "text": [
      "Model: \"sequential_2\"\n",
      "_________________________________________________________________\n",
      " Layer (type)                Output Shape              Param #   \n",
      "=================================================================\n",
      " simple_rnn_4 (SimpleRNN)    (None, 128)               17920     \n",
      "                                                                 \n",
      " repeat_vector_2 (RepeatVect  (None, 5, 128)           0         \n",
      " or)                                                             \n",
      "                                                                 \n",
      " simple_rnn_5 (SimpleRNN)    (None, 5, 128)            32896     \n",
      "                                                                 \n",
      " time_distributed_2 (TimeDis  (None, 5, 11)            1419      \n",
      " tributed)                                                       \n",
      "                                                                 \n",
      "=================================================================\n",
      "Total params: 52,235\n",
      "Trainable params: 52,235\n",
      "Non-trainable params: 0\n",
      "_________________________________________________________________\n"
     ]
    }
   ],
   "source": [
    "hidden_units=128\n",
    "max_time_steps=5\n",
    "model = Sequential([\n",
    "    SimpleRNN(hidden_units,input_shape=(None,num_features)),\n",
    "    RepeatVector(max_time_steps),\n",
    "    SimpleRNN(hidden_units,return_sequences=True),\n",
    "    TimeDistributed(Dense(num_features,activation='softmax'))\n",
    "]\n",
    ")\n",
    "model.compile(\n",
    "   loss='categorical_crossentropy',\n",
    "    optimizer = 'adam',\n",
    "    metrics=['accuracy']\n",
    ")\n",
    "model.summary()\n",
    "model.compile(loss='categorical_crossentropy', optimizer='adam', metrics=['accuracy'])"
   ]
  },
  {
   "cell_type": "code",
   "execution_count": 22,
   "metadata": {},
   "outputs": [
    {
     "name": "stdout",
     "output_type": "stream",
     "text": [
      "35+50 85\n",
      "(5, 11) (5, 11)\n"
     ]
    }
   ],
   "source": [
    "def vectorize_example(example,label):\n",
    "    x=np.zeros((max_time_steps,num_features))\n",
    "    y=np.zeros((max_time_steps,num_features))\n",
    "    \n",
    "    diff_x = max_time_steps - len(example)\n",
    "    diff_y = max_time_steps - len(label)\n",
    "    \n",
    "    for i,c in enumerate(example):\n",
    "        x[i+diff_x,char_to_index[c]] =1\n",
    "    for i in range(diff_x):\n",
    "        x[i,char_to_index['0']] = 1\n",
    "    for i,c in enumerate(label):\n",
    "        y[i+diff_y,char_to_index[c]] =1\n",
    "    for i in range(diff_y):\n",
    "        y[i,char_to_index['0']] = 1  \n",
    "    return x,y\n",
    "e, l = generate_data()\n",
    "print(e,l)\n",
    "x,y= vectorize_example(e,l)\n",
    "print(x.shape,y.shape)"
   ]
  },
  {
   "cell_type": "code",
   "execution_count": 23,
   "metadata": {},
   "outputs": [
    {
     "data": {
      "text/plain": [
       "'35+50'"
      ]
     },
     "execution_count": 23,
     "metadata": {},
     "output_type": "execute_result"
    }
   ],
   "source": [
    "def devectorize_example(example):\n",
    "    result = [index_to_char[np.argmax(vec)] for i,vec in enumerate(example)]\n",
    "    return ''.join(result)\n",
    "devectorize_example(x)"
   ]
  },
  {
   "cell_type": "code",
   "execution_count": 24,
   "metadata": {},
   "outputs": [
    {
     "data": {
      "text/plain": [
       "'00085'"
      ]
     },
     "execution_count": 24,
     "metadata": {},
     "output_type": "execute_result"
    }
   ],
   "source": [
    "devectorize_example(y)"
   ]
  },
  {
   "cell_type": "code",
   "execution_count": 25,
   "metadata": {},
   "outputs": [
    {
     "name": "stdout",
     "output_type": "stream",
     "text": [
      "(2000, 5, 11) (2000, 5, 11)\n"
     ]
    }
   ],
   "source": [
    "def create_dataset(num_examples=2000):\n",
    "    x=np.zeros((num_examples,max_time_steps,num_features))\n",
    "    y=np.zeros((num_examples,max_time_steps,num_features))\n",
    "    for i in range(num_examples):\n",
    "        e,l = generate_data()\n",
    "        e_v, l_v = vectorize_example(e,l)\n",
    "        x[i] = e_v\n",
    "        y[i] = l_v\n",
    "    return x,y\n",
    "x,y = create_dataset()\n",
    "print(x.shape,y.shape)"
   ]
  },
  {
   "cell_type": "code",
   "execution_count": 26,
   "metadata": {},
   "outputs": [
    {
     "data": {
      "text/plain": [
       "'00094'"
      ]
     },
     "execution_count": 26,
     "metadata": {},
     "output_type": "execute_result"
    }
   ],
   "source": [
    "devectorize_example(x[0])\n",
    "devectorize_example(y[0])"
   ]
  },
  {
   "cell_type": "code",
   "execution_count": 36,
   "metadata": {},
   "outputs": [
    {
     "name": "stdout",
     "output_type": "stream",
     "text": [
      "0.95 _ 0.95 _ 0.95 _ 0.95 _ 0.95 _ 0.95 _ 0.95 _ 0.95 _ 0.95 _ 0.95 _ 0.95 _ 0.95 _ 0.95 _ 0.95 _ 0.95 _ 0.95 _ 0.95 _ "
     ]
    },
    {
     "data": {
      "text/plain": [
       "<keras.callbacks.History at 0x1e34a479a90>"
      ]
     },
     "execution_count": 36,
     "metadata": {},
     "output_type": "execute_result"
    }
   ],
   "source": [
    "l_cb=LambdaCallback(\n",
    "    on_epoch_end = lambda e,l: print('{:.2f}'.format(l['val_accuracy']),end=' _ ')\n",
    ")\n",
    "es_cb=EarlyStopping(monitor='val_loss',patience=10)\n",
    "model.fit(x,y,epochs=500,batch_size=256,validation_split=0.2,\n",
    "         verbose=False,callbacks=[es_cb,l_cb])"
   ]
  },
  {
   "cell_type": "code",
   "execution_count": 37,
   "metadata": {},
   "outputs": [
    {
     "name": "stdout",
     "output_type": "stream",
     "text": [
      "1/1 [==============================] - 1s 519ms/step\n",
      "\u001b[32mInput: 33+92 Out: 00125Pred:00125\u001b[0m\n",
      "\u001b[32mInput: 79+80 Out: 00159Pred:00159\u001b[0m\n",
      "\u001b[32mInput: 96+73 Out: 00169Pred:00169\u001b[0m\n",
      "\u001b[32mInput: 50+30 Out: 00080Pred:00080\u001b[0m\n",
      "\u001b[32mInput: 26+47 Out: 00073Pred:00073\u001b[0m\n",
      "\u001b[31mInput: 34+69 Out: 00103Pred:00104\u001b[0m\n",
      "\u001b[32mInput: 91+52 Out: 00143Pred:00143\u001b[0m\n",
      "\u001b[32mInput: 34+27 Out: 00061Pred:00061\u001b[0m\n",
      "\u001b[32mInput: 77+60 Out: 00137Pred:00137\u001b[0m\n",
      "\u001b[31mInput: 13+96 Out: 00109Pred:00119\u001b[0m\n"
     ]
    }
   ],
   "source": [
    "x_test,y_test = create_dataset(10)\n",
    "preds = model.predict(x_test)\n",
    "for i,pred in enumerate(preds):\n",
    "    y=devectorize_example(y_test[i])\n",
    "    y_hat = devectorize_example(pred)\n",
    "    col='green'\n",
    "    if y!= y_hat:\n",
    "        col='red'\n",
    "    out='Input: '+ devectorize_example(x_test[i])+' Out: ' +y+'Pred:' +y_hat\n",
    "    print(colored(out,col))"
   ]
  },
  {
   "cell_type": "code",
   "execution_count": null,
   "metadata": {},
   "outputs": [],
   "source": []
  }
 ],
 "metadata": {
  "kernelspec": {
   "display_name": "Python 3",
   "language": "python",
   "name": "python3"
  },
  "language_info": {
   "codemirror_mode": {
    "name": "ipython",
    "version": 3
   },
   "file_extension": ".py",
   "mimetype": "text/x-python",
   "name": "python",
   "nbconvert_exporter": "python",
   "pygments_lexer": "ipython3",
   "version": "3.11.4"
  },
  "orig_nbformat": 4
 },
 "nbformat": 4,
 "nbformat_minor": 2
}
